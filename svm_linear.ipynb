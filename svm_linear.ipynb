{
  "nbformat": 4,
  "nbformat_minor": 0,
  "metadata": {
    "colab": {
      "name": "svm-linear.ipynb",
      "version": "0.3.2",
      "provenance": [],
      "collapsed_sections": []
    },
    "kernelspec": {
      "name": "python3",
      "display_name": "Python 3"
    }
  },
  "cells": [
    {
      "metadata": {
        "id": "gkbPk2OiarLG",
        "colab_type": "code",
        "outputId": "fc177182-5df2-4f6e-ac01-0492260905d9",
        "colab": {
          "base_uri": "https://localhost:8080/",
          "height": 204
        }
      },
      "cell_type": "code",
      "source": [
        "import numpy as np\n",
        "import pandas as pd\n",
        "import scipy.io as sio\n",
        "import matplotlib.pyplot as plt\n",
        "from matplotlib.pyplot import figure\n",
        "from sklearn.model_selection import train_test_split\n",
        "from sklearn import svm\n",
        "from sklearn import metrics\n",
        "\n",
        "data = sio.loadmat('svm-linear-data.mat')\n",
        "\n",
        "#cleaning up\n",
        "\n",
        "X_col = data['X'][:,0]\n",
        "n = X_col.size\n",
        "A = np.reshape(X_col, (n,1))\n",
        "\n",
        "X2_col = data['X'][:,1]\n",
        "B = np.reshape(X2_col, (n,1))\n",
        "y_col = dat1['y'][:,0]\n",
        "C = np.reshape(y_temp_d1, (n,1))\n",
        "\n",
        "data_clean = np.concatenate((A,B,C),axis=1)\n",
        "pd.DataFrame(data_clean).head()"
      ],
      "execution_count": 13,
      "outputs": [
        {
          "output_type": "execute_result",
          "data": {
            "text/html": [
              "<div>\n",
              "<style scoped>\n",
              "    .dataframe tbody tr th:only-of-type {\n",
              "        vertical-align: middle;\n",
              "    }\n",
              "\n",
              "    .dataframe tbody tr th {\n",
              "        vertical-align: top;\n",
              "    }\n",
              "\n",
              "    .dataframe thead th {\n",
              "        text-align: right;\n",
              "    }\n",
              "</style>\n",
              "<table border=\"1\" class=\"dataframe\">\n",
              "  <thead>\n",
              "    <tr style=\"text-align: right;\">\n",
              "      <th></th>\n",
              "      <th>0</th>\n",
              "      <th>1</th>\n",
              "      <th>2</th>\n",
              "    </tr>\n",
              "  </thead>\n",
              "  <tbody>\n",
              "    <tr>\n",
              "      <th>0</th>\n",
              "      <td>1.9643</td>\n",
              "      <td>4.5957</td>\n",
              "      <td>1.0</td>\n",
              "    </tr>\n",
              "    <tr>\n",
              "      <th>1</th>\n",
              "      <td>2.2753</td>\n",
              "      <td>3.8589</td>\n",
              "      <td>1.0</td>\n",
              "    </tr>\n",
              "    <tr>\n",
              "      <th>2</th>\n",
              "      <td>2.9781</td>\n",
              "      <td>4.5651</td>\n",
              "      <td>1.0</td>\n",
              "    </tr>\n",
              "    <tr>\n",
              "      <th>3</th>\n",
              "      <td>2.9320</td>\n",
              "      <td>3.5519</td>\n",
              "      <td>1.0</td>\n",
              "    </tr>\n",
              "    <tr>\n",
              "      <th>4</th>\n",
              "      <td>3.5772</td>\n",
              "      <td>2.8560</td>\n",
              "      <td>1.0</td>\n",
              "    </tr>\n",
              "  </tbody>\n",
              "</table>\n",
              "</div>"
            ],
            "text/plain": [
              "        0       1    2\n",
              "0  1.9643  4.5957  1.0\n",
              "1  2.2753  3.8589  1.0\n",
              "2  2.9781  4.5651  1.0\n",
              "3  2.9320  3.5519  1.0\n",
              "4  3.5772  2.8560  1.0"
            ]
          },
          "metadata": {
            "tags": []
          },
          "execution_count": 13
        }
      ]
    },
    {
      "metadata": {
        "id": "zZ6xiAnhNQ7T",
        "colab_type": "code",
        "colab": {
          "base_uri": "https://localhost:8080/",
          "height": 364
        },
        "outputId": "4e162db1-763f-4c0e-8d37-db8cba82e83b"
      },
      "cell_type": "code",
      "source": [
        "x_train, x_test, y_train, y_test = train_test_split(data_clean[:,0:2], \n",
        "                                                    data_clean[:,2], test_size=0.3,random_state=109) \n",
        "\n",
        "# splitting positive / negative samples\n",
        "\n",
        "pos = y_train[:] == 1\n",
        "neg = y_train[:] == 0\n",
        "\n",
        "posX1 = x_train[pos][:,0]\n",
        "posX2 = x_train[pos][:,1]\n",
        "\n",
        "negX1 = x_train[neg][:,0]\n",
        "negX2 = x_train[neg][:,1]\n",
        "\n",
        "plt.scatter(posX1, posX2, color = 'r')\n",
        "plt.scatter(negX1, negX2, color = 'b')\n",
        "\n",
        "# support vector machine with low C\n",
        "\n",
        "clf = svm.SVC(C=0.005, kernel='linear')\n",
        "clf.fit(x_train, y_train)\n",
        "\n",
        "print(\"Accuracy:\",metrics.accuracy_score(y_test, y_pred))\n",
        "\n",
        "# plot boundary\n",
        "\n",
        "w = clf.coef_[0]\n",
        "a = -w[0] / w[1]\n",
        "xx = np.linspace(0, 4)\n",
        "yy = a * xx - (clf.intercept_[0]) / w[1]\n",
        "plt.plot(xx,yy)\n",
        "y_pred = clf.predict(x_test)\n"
      ],
      "execution_count": 17,
      "outputs": [
        {
          "output_type": "stream",
          "text": [
            "Accuracy: 0.75\n"
          ],
          "name": "stdout"
        },
        {
          "output_type": "display_data",
          "data": {
            "image/png": "[encoded data removed]",
            "text/plain": [
              "<Figure size 576x396 with 1 Axes>"
            ]
          },
          "metadata": {
            "tags": []
          }
        }
      ]
    },
    {
      "metadata": {
        "id": "K6Zbxchp5MWv",
        "colab_type": "code",
        "outputId": "e996f977-27dc-44dc-9b82-78e7831c8a74",
        "colab": {
          "base_uri": "https://localhost:8080/",
          "height": 364
        }
      },
      "cell_type": "code",
      "source": [
        "plt.scatter(posX1, posX2, color = 'r')\n",
        "plt.scatter(negX1, negX2, color = 'b')\n",
        "\n",
        "# support vector machine with higher C\n",
        "\n",
        "clf = svm.SVC(C=0.05, kernel='linear')\n",
        "clf.fit(x_train, y_train)\n",
        "\n",
        "print(\"Accuracy:\", metrics.accuracy_score(y_test, y_pred))\n",
        "\n",
        "# plot boundary\n",
        "w = clf.coef_[0]\n",
        "a = -w[0] / w[1]\n",
        "xx = np.linspace(0, 4)\n",
        "yy = a * xx - (clf.intercept_[0]) / w[1]\n",
        "plt.plot(xx,yy)\n",
        "y_pred = clf.predict(x_test)"
      ],
      "execution_count": 19,
      "outputs": [
        {
          "output_type": "stream",
          "text": [
            "Accuracy: 1.0\n"
          ],
          "name": "stdout"
        },
        {
          "output_type": "display_data",
          "data": {
            "image/png": "[encoded data removed]",
            "text/plain": [
              "<Figure size 576x396 with 1 Axes>"
            ]
          },
          "metadata": {
            "tags": []
          }
        }
      ]
    }
  ]
}