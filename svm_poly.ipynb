{
  "nbformat": 4,
  "nbformat_minor": 0,
  "metadata": {
    "colab": {
      "name": "svm-poly.ipynb",
      "version": "0.3.2",
      "provenance": []
    },
    "kernelspec": {
      "name": "python3",
      "display_name": "Python 3"
    }
  },
  "cells": [
    {
      "metadata": {
        "id": "7Hywbk_LA86Q",
        "colab_type": "code",
        "outputId": "141922ea-abed-4fb3-95e0-513a1e605db4",
        "colab": {
          "base_uri": "https://localhost:8080/",
          "height": 204
        }
      },
      "cell_type": "code",
      "source": [
        "import numpy as np\n",
        "import pandas as pd\n",
        "import scipy.io as sio\n",
        "import matplotlib.pyplot as plt\n",
        "from matplotlib.pyplot import figure\n",
        "from sklearn.model_selection import train_test_split\n",
        "from sklearn import svm\n",
        "from sklearn import metrics\n",
        "\n",
        "data = sio.loadmat('svm-poly-data.mat')\n",
        "\n",
        "#cleaning up\n",
        "\n",
        "X_col = data['X'][:,0]\n",
        "n = X_col.size\n",
        "A = np.reshape(X_col, (n,1))\n",
        "\n",
        "X2_col = dat3['X'][:,1]\n",
        "B = np.reshape(X2_col, (n,1))\n",
        "y_col = data['y'][:,0]\n",
        "C = np.reshape(y_col, (n,1))\n",
        "\n",
        "data_clean = np.concatenate((A,B,C),axis=1)\n",
        "pd.DataFrame(data_clean).head()"
      ],
      "execution_count": 7,
      "outputs": [
        {
          "output_type": "execute_result",
          "data": {
            "text/html": [
              "<div>\n",
              "<style scoped>\n",
              "    .dataframe tbody tr th:only-of-type {\n",
              "        vertical-align: middle;\n",
              "    }\n",
              "\n",
              "    .dataframe tbody tr th {\n",
              "        vertical-align: top;\n",
              "    }\n",
              "\n",
              "    .dataframe thead th {\n",
              "        text-align: right;\n",
              "    }\n",
              "</style>\n",
              "<table border=\"1\" class=\"dataframe\">\n",
              "  <thead>\n",
              "    <tr style=\"text-align: right;\">\n",
              "      <th></th>\n",
              "      <th>0</th>\n",
              "      <th>1</th>\n",
              "      <th>2</th>\n",
              "    </tr>\n",
              "  </thead>\n",
              "  <tbody>\n",
              "    <tr>\n",
              "      <th>0</th>\n",
              "      <td>-0.158986</td>\n",
              "      <td>0.423977</td>\n",
              "      <td>1.0</td>\n",
              "    </tr>\n",
              "    <tr>\n",
              "      <th>1</th>\n",
              "      <td>-0.347926</td>\n",
              "      <td>0.470760</td>\n",
              "      <td>1.0</td>\n",
              "    </tr>\n",
              "    <tr>\n",
              "      <th>2</th>\n",
              "      <td>-0.504608</td>\n",
              "      <td>0.353801</td>\n",
              "      <td>1.0</td>\n",
              "    </tr>\n",
              "    <tr>\n",
              "      <th>3</th>\n",
              "      <td>-0.596774</td>\n",
              "      <td>0.114035</td>\n",
              "      <td>1.0</td>\n",
              "    </tr>\n",
              "    <tr>\n",
              "      <th>4</th>\n",
              "      <td>-0.518433</td>\n",
              "      <td>-0.172515</td>\n",
              "      <td>1.0</td>\n",
              "    </tr>\n",
              "  </tbody>\n",
              "</table>\n",
              "</div>"
            ],
            "text/plain": [
              "          0         1    2\n",
              "0 -0.158986  0.423977  1.0\n",
              "1 -0.347926  0.470760  1.0\n",
              "2 -0.504608  0.353801  1.0\n",
              "3 -0.596774  0.114035  1.0\n",
              "4 -0.518433 -0.172515  1.0"
            ]
          },
          "metadata": {
            "tags": []
          },
          "execution_count": 7
        }
      ]
    },
    {
      "metadata": {
        "id": "tup3RSvklT5h",
        "colab_type": "code",
        "colab": {
          "base_uri": "https://localhost:8080/",
          "height": 418
        },
        "outputId": "3161ed43-65ab-4593-d7ad-e99787bdb5b0"
      },
      "cell_type": "code",
      "source": [
        "x_train, x_test, y_train, y_test = train_test_split(data_clean[:,0:2], \n",
        "                                                    data_clean[:,2], test_size=0.3,random_state=109)\n",
        "\n",
        "# splitting positive / negative samples\n",
        "\n",
        "pos = y_train[:] ==1\n",
        "neg = y_train[:] ==0\n",
        "\n",
        "posX1 = x_train[pos][:,0]\n",
        "posX2 = x_train[pos][:,1]\n",
        "\n",
        "negX1 = x_train[neg][:,0]\n",
        "negX2 = x_train[neg][:,1]\n",
        "\n",
        "plt.scatter(posX1, posX2, color = 'r')\n",
        "plt.scatter(negX1, negX2, color = 'b')\n",
        "\n",
        "# support vector machine with poly kernel and high C\n",
        "\n",
        "clf = svm.SVC(C=1000, kernel='poly')\n",
        "model = clf.fit(x_train, y_train)\n",
        "\n",
        "y_pred = clf.predict(x_test)\n",
        "print(\"Accuracy:\",metrics.accuracy_score(y_test, y_pred))\n",
        "\n",
        "# plot boundary\n",
        "\n",
        "xx1, xx2 = np.meshgrid(np.arange(-0.6, 0.4, 0.01),\n",
        "                       np.arange(-0.7, 0.6, 0.01))\n",
        "\n",
        "xx1_flat, xx2_flat = (xx1.ravel(), xx2.ravel())\n",
        "xx = np.column_stack((xx1_flat, xx2_flat))\n",
        "\n",
        "zz = clf.predict(xx)\n",
        "zz_plot = zz.reshape(130, 100)\n",
        "\n",
        "plt.contour(xx1, xx2, zz_plot, zorder=0)\n",
        "plt.show()"
      ],
      "execution_count": 8,
      "outputs": [
        {
          "output_type": "stream",
          "text": [
            "/usr/local/lib/python3.6/dist-packages/sklearn/svm/base.py:196: FutureWarning: The default value of gamma will change from 'auto' to 'scale' in version 0.22 to account better for unscaled features. Set gamma explicitly to 'auto' or 'scale' to avoid this warning.\n",
            "  \"avoid this warning.\", FutureWarning)\n"
          ],
          "name": "stderr"
        },
        {
          "output_type": "stream",
          "text": [
            "Accuracy: 0.828125\n"
          ],
          "name": "stdout"
        },
        {
          "output_type": "display_data",
          "data": {
            "image/png": "[encoded data removed]",
            "text/plain": [
              "<Figure size 576x396 with 1 Axes>"
            ]
          },
          "metadata": {
            "tags": []
          }
        }
      ]
    }
  ]
}